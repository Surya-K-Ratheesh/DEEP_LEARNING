{
 "cells": [
  {
   "cell_type": "markdown",
   "metadata": {
    "id": "je23K-f3By1_"
   },
   "source": [
    " Removing outliers using two method: Z-score\n",
    " and IQR methods"
   ]
  },
  {
   "cell_type": "code",
   "execution_count": null,
   "metadata": {},
   "outputs": [],
   "source": [
    "\"\"\"\n",
    "OBJECTIVE\n",
    "To identify and remove outliers from a given dataset using two statistical methods:\n",
    "    Z-score method\n",
    "    Interquartile Range (IQR) method\n",
    "\"\"\""
   ]
  },
  {
   "cell_type": "code",
   "execution_count": null,
   "metadata": {},
   "outputs": [],
   "source": [
    "\"\"\"\n",
    "PROBLEM STATEMENT\n",
    "Outliers can significantly affect the mean, variance, and predictions of models.\n",
    "The problem in this experiment is:\n",
    "\n",
    "How can we detect and remove extreme values in numerical data using statistical approaches?\n",
    "\n",
    "How do Z-score and IQR methods compare in identifying these outliers?\n",
    "\n",
    "\"\"\""
   ]
  },
  {
   "cell_type": "code",
   "execution_count": null,
   "metadata": {},
   "outputs": [],
   "source": [
    "\"\"\"\n",
    "DATASET USED AND DESCRIPTION\n",
    "The dataset is manually hardcoded (no external dataset).\n",
    "\n",
    "Example data:\n",
    "                [10, 12, 13, 15, 20, 28, 29, 102, 90]\n",
    "\n",
    "This list contains mostly small values but two significantly large numbers (102, 90) which are potential outliers.\n",
    "\"\"\""
   ]
  },
  {
   "cell_type": "code",
   "execution_count": null,
   "metadata": {},
   "outputs": [],
   "source": [
    "\"\"\"\n",
    "METHODS USED\n",
    "Z-score Method:\n",
    "Formula:\n",
    "        z = (x - mean) / std deviation\n",
    "\n",
    "Outliers are values with absolute Z-score > threshold (here, threshold = 1).\n",
    "\n",
    "IQR Method:\n",
    "Compute Q1 (25th percentile) and Q3 (75th percentile).\n",
    "\n",
    "Interquartile Range (IQR) = Q3 - Q1\n",
    "\n",
    "Outlier cutoff:\n",
    "\n",
    "Lower bound: Q1 - 1.5 x IQR\n",
    "\n",
    "Upper bound: Q3 + 1.5 x IQR\n",
    "\n",
    "Values outside this range are considered outliers.\n",
    "\"\"\""
   ]
  },
  {
   "cell_type": "code",
   "execution_count": 1,
   "metadata": {
    "executionInfo": {
     "elapsed": 1420,
     "status": "ok",
     "timestamp": 1753001183102,
     "user": {
      "displayName": "Surya K Ratheesh",
      "userId": "09192778885945358200"
     },
     "user_tz": -330
    },
    "id": "McD5NZKU-kUH"
   },
   "outputs": [],
   "source": [
    "import numpy as np\n",
    "import matplotlib.pyplot as plt"
   ]
  },
  {
   "cell_type": "code",
   "execution_count": 2,
   "metadata": {
    "colab": {
     "base_uri": "https://localhost:8080/",
     "height": 576
    },
    "executionInfo": {
     "elapsed": 5,
     "status": "ok",
     "timestamp": 1753001188343,
     "user": {
      "displayName": "Surya K Ratheesh",
      "userId": "09192778885945358200"
     },
     "user_tz": -330
    },
    "id": "4d21fHDOAvAk",
    "outputId": "c0e3c3fc-0617-4786-9d44-f1529c743094"
   },
   "outputs": [
    {
     "data": {
      "text/plain": [
       "{'whiskers': [<matplotlib.lines.Line2D at 0x7c6fd2f5f490>,\n",
       "  <matplotlib.lines.Line2D at 0x7c6fd2f64050>],\n",
       " 'caps': [<matplotlib.lines.Line2D at 0x7c6fd2f64b90>,\n",
       "  <matplotlib.lines.Line2D at 0x7c6fd2f65610>],\n",
       " 'boxes': [<matplotlib.lines.Line2D at 0x7c6fd2f5ea90>],\n",
       " 'medians': [<matplotlib.lines.Line2D at 0x7c6fd2f66110>],\n",
       " 'fliers': [<matplotlib.lines.Line2D at 0x7c6fd2f66ad0>],\n",
       " 'means': []}"
      ]
     },
     "execution_count": 2,
     "metadata": {},
     "output_type": "execute_result"
    },
    {
     "data": {
      "image/png": "[encoded data removed]",
      "text/plain": [
       "<Figure size 640x480 with 1 Axes>"
      ]
     },
     "metadata": {},
     "output_type": "display_data"
    }
   ],
   "source": [
    "data = [10, 12, 13, 15, 20, 28, 29, 102, 90]\n",
    "plt.boxplot(data)"
   ]
  },
  {
   "cell_type": "code",
   "execution_count": 3,
   "metadata": {
    "executionInfo": {
     "elapsed": 1,
     "status": "ok",
     "timestamp": 1753001201678,
     "user": {
      "displayName": "Surya K Ratheesh",
      "userId": "09192778885945358200"
     },
     "user_tz": -330
    },
    "id": "6bfKTNS3A1E6"
   },
   "outputs": [],
   "source": [
    "out = []\n",
    "threshold = 1\n",
    "mean = np.mean(data)\n",
    "sd = np.std(data)"
   ]
  },
  {
   "cell_type": "code",
   "execution_count": 5,
   "metadata": {
    "colab": {
     "base_uri": "https://localhost:8080/"
    },
    "executionInfo": {
     "elapsed": 2,
     "status": "ok",
     "timestamp": 1753001259429,
     "user": {
      "displayName": "Surya K Ratheesh",
      "userId": "09192778885945358200"
     },
     "user_tz": -330
    },
    "id": "xu9d3eq-A4hd",
    "outputId": "422e9eef-ec11-43d6-cfdb-02c0a91516b0"
   },
   "outputs": [
    {
     "name": "stdout",
     "output_type": "stream",
     "text": [
      "Element 10 : -0.7687247717308493\n",
      "Element 12 : -0.7083009905467651\n",
      "Element 13 : -0.678089099954723\n",
      "Element 15 : -0.6176653187706388\n",
      "Element 20 : -0.4666058658104282\n",
      "Element 28 : -0.22491074107409126\n",
      "Element 29 : -0.19469885048204913\n",
      "Element 102 : 2.0107691627370254\n",
      "Element 90 : 1.6482264756325198\n",
      "[102, 90, 102, 90]\n"
     ]
    }
   ],
   "source": [
    "for i in data:\n",
    "    z = (i - mean)/sd\n",
    "    print(f\"Element {i} : {z}\")\n",
    "\n",
    "    if np.abs(z) > threshold:\n",
    "        out.append(i)\n",
    "\n",
    "print(out)"
   ]
  },
  {
   "cell_type": "code",
   "execution_count": 6,
   "metadata": {
    "colab": {
     "base_uri": "https://localhost:8080/"
    },
    "executionInfo": {
     "elapsed": 2,
     "status": "ok",
     "timestamp": 1753001281509,
     "user": {
      "displayName": "Surya K Ratheesh",
      "userId": "09192778885945358200"
     },
     "user_tz": -330
    },
    "id": "ikg7ed3OA8Za",
    "outputId": "c199ee06-d499-4b1f-8153-e38e6b816377"
   },
   "outputs": [
    {
     "name": "stdout",
     "output_type": "stream",
     "text": [
      "13.0 29.0\n",
      "16.0\n",
      "53.0 -11.0\n"
     ]
    }
   ],
   "source": [
    "sort = sorted(data)\n",
    "q1, q3 = np.percentile(sort, [25, 75])\n",
    "print(q1, q3)\n",
    "inter = q3 - q1\n",
    "print(inter)\n",
    "upper = q3 + (1.5 * inter)\n",
    "lower = q1 - (1.5 * inter)\n",
    "print(upper, lower)"
   ]
  },
  {
   "cell_type": "code",
   "execution_count": 7,
   "metadata": {
    "colab": {
     "base_uri": "https://localhost:8080/"
    },
    "executionInfo": {
     "elapsed": 2,
     "status": "ok",
     "timestamp": 1753001291183,
     "user": {
      "displayName": "Surya K Ratheesh",
      "userId": "09192778885945358200"
     },
     "user_tz": -330
    },
    "id": "qNx-1b1OBMOk",
    "outputId": "291f356a-d52a-4e67-84cd-9e38c7b16879"
   },
   "outputs": [
    {
     "name": "stdout",
     "output_type": "stream",
     "text": [
      "[90, 102]\n"
     ]
    }
   ],
   "source": [
    "remove = []\n",
    "\n",
    "for i in sort:\n",
    "    if ((i > upper) | (i < lower)):\n",
    "        remove.append(i)\n",
    "\n",
    "print(remove)"
   ]
  },
  {
   "cell_type": "code",
   "execution_count": null,
   "metadata": {},
   "outputs": [],
   "source": [
    "\"\"\"\n",
    "RESULTS\n",
    "Z-score Method\n",
    "\n",
    "Outliers detected: **[102, 90,cate counts because the loop checks each occurrence without removing duplicates).\n",
    "\n",
    "IQR Method\n",
    "\n",
    "Q1 = 13.0, Q3 = 29.0, IQR = 16.0\n",
    "\n",
    "Upper bound = 53.0, Lower bound = -11.0\n",
    "\n",
    "Outliers detected: ****\n",
    "\"\"\""
   ]
  },
  {
   "cell_type": "code",
   "execution_count": null,
   "metadata": {},
   "outputs": [],
   "source": [
    "\"\"\"\n",
    "CONCLUSION\n",
    "Both methods successfully identified 90 and 102 as outliers in the dataset.\n",
    "\n",
    "Z-score method is sensitive to the spread (standard deviation) and flagged them twice due to the way the detection loop is written.\n",
    "\n",
    "IQR method is more robust to skewed data since it uses percentile spread and not affected by extreme values as much as Z-score.\n",
    "\n",
    "In practice, choice depends on the data distribution:\n",
    "\n",
    "Use Z-score for normally distributed data.\n",
    "\n",
    "Use IQR for skewed or non-parametric data\n",
    "\"\"\""
   ]
  }
 ],
 "metadata": {
  "colab": {
   "authorship_tag": "ABX9TyMLUvKijgTvpEbTWhkaFDqI",
   "provenance": []
  },
  "kernelspec": {
   "display_name": "Python 3",
   "name": "python3"
  },
  "language_info": {
   "codemirror_mode": {
    "name": "ipython",
    "version": 3
   },
   "file_extension": ".py",
   "mimetype": "text/x-python",
   "name": "python",
   "nbconvert_exporter": "python",
   "pygments_lexer": "ipython3",
   "version": "3.13.5"
  }
 },
 "nbformat": 4,
 "nbformat_minor": 0
}
